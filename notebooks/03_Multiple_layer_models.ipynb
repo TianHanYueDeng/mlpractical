{
 "cells": [
  {
   "cell_type": "markdown",
   "source": [
    "$\\newcommand{\\vct}[1]{\\boldsymbol{#1}}\n",
    "\\newcommand{\\mtx}[1]{\\mathbf{#1}}\n",
    "\\newcommand{\\tr}{^\\mathrm{T}}\n",
    "\\newcommand{\\reals}{\\mathbb{R}}\n",
    "\\newcommand{\\lpa}{\\left(}\n",
    "\\newcommand{\\rpa}{\\right)}\n",
    "\\newcommand{\\lsb}{\\left[}\n",
    "\\newcommand{\\rsb}{\\right]}\n",
    "\\newcommand{\\lbr}{\\left\\lbrace}\n",
    "\\newcommand{\\rbr}{\\right\\rbrace}\n",
    "\\newcommand{\\fset}[1]{\\lbr #1 \\rbr}\n",
    "\\newcommand{\\pd}[2]{\\frac{\\partial #1}{\\partial #2}}$\n",
    "\n",
    "# Multiple layer models and Activation Functions\n",
    "\n",
    "In this notebook we will explore network models with multiple layers of transformations. This will build upon the single-layer affine model we looked at in the previous notebook and use material covered in the [second](https://www.learn.ed.ac.uk/bbcswebdav/pid-5970416-dt-content-rid-23449921_1/xid-23449921_1) and [third](https://www.learn.ed.ac.uk/bbcswebdav/pid-5970416-dt-content-rid-16249607_1/xid-16249607_1) lectures.\n",
    "\n",
    "You will need to use these models for the experiments you will be running in the first coursework so part of the aim of this lab will be to get you familiar with how to construct multiple layer models in our framework and how to train them.\n",
    "\n",
    "## What is a layer?\n",
    "\n",
    "Often when discussing (neural) network models, a network layer is taken to mean an input to output transformation of the form\n",
    "\n",
    "\\begin{equation}\n",
    "    \\boldsymbol{y} = \\boldsymbol{f}(\\mathbf{W} \\boldsymbol{x} + \\boldsymbol{b})\n",
    "    \\qquad\n",
    "    \\Leftrightarrow\n",
    "    \\qquad\n",
    "    y_k = f\\left(\\sum_{d=1}^D \\left( W_{kd} x_d \\right) + b_k \\right)\n",
    "\\end{equation}\n",
    "\n",
    "where $\\mathbf{W}$ and $\\boldsymbol{b}$ parameterise an affine transformation as discussed in the previous notebook, and $f$ is a function applied elementwise to the result of the affine transformation (sometimes called the activation function). For example a common choice for $f$ is the logistic sigmoid function \n",
    "\\begin{equation}\n",
    "  f(u) = \\frac{1}{1 + \\exp(-u)}.\n",
    "\\end{equation}\n",
    "\n",
    "In the second lecture slides you were shown how to train a model consisting of an affine transformation followed by the elementwise logistic sigmoid using gradient descent. This was referred to as a 'sigmoid single-layer network'.\n",
    "\n",
    "In the previous notebook we also referred to single-layer models, where in that case the layer was an affine transformation, with you implementing the various necessary methods for the `AffineLayer` class before using an instance of that class within a `SingleLayerModel` on a regression problem. We could in that case consider the activation function $f$ to be the identity function $f(u) = u$. In the code for the labs we will however use a slightly different convention. Here we will consider the affine transformation and the subsequent activation function $f$ to be two separate transformation layers. \n",
    "\n",
    "This allows us to combine our already implemented `AffineLayer` class with any non-linear activation function applied to the outputs by simply implementing a layer object for the relevant non-linearity and then stacking the two layers together. An alternative would be to have our new layer objects inherit from `AffineLayer` and then call the relevant parent class methods in the child class; however, this would mean we need to duplicate a lot of the same boilerplate code in every new class.\n",
    "\n",
    "To give a concrete example, in the `mlp.layers` module there is a definition for a `SigmoidLayer` equivalent to the following (documentation strings have been removed here for brevity)\n",
    "\n",
    "```python\n",
    "class SigmoidLayer(Layer):\n",
    "\n",
    "    def fprop(self, inputs):\n",
    "        return 1. / (1. + np.exp(-inputs))\n",
    "\n",
    "    def bprop(self, inputs, outputs, grads_wrt_outputs):\n",
    "        return grads_wrt_outputs * outputs * (1. - outputs)\n",
    "```\n",
    "\n",
    "As you can see this `SigmoidLayer` class has a very lightweight definition, defining just two key methods:\n",
    "\n",
    "  * `fprop` which takes a batch of values at the input to the layer and forward propagates them to produce activations at the outputs (directly equivalently to the `fprop` method you implemented for then `AffineLayer` in the previous notebook),\n",
    "  * `brop` which takes a batch of gradients with respect to the outputs of the layer and backward propagates them to calculate gradients with respect to the inputs of the layer (explained in more detail below).\n",
    "  \n",
    "This `SigmoidLayer` class only implements the logistic sigmoid non-linearity transformation and so does not have any parameters. Therefore unlike `AffineLayer` it is derived directly from the base `Layer` class rather than `LayerWithParameters` and does not need to implement `grads_wrt_params` or `params` methods. \n",
    "\n",
    "To create a model consisting of an affine transformation followed by applying an elementwise logistic sigmoid transformation we first create a list of the two layer objects (in the order they are applied from inputs to outputs) and then use this to instantiate a new `MultipleLayerModel` object:\n",
    "\n",
    "```python\n",
    "from mlp.layers import AffineLayer, SigmoidLayer\n",
    "from mlp.models import MultipleLayerModel\n",
    "\n",
    "layers = [AffineLayer(input_dim, output_dim), SigmoidLayer()]\n",
    "model = MultipleLayerModel(layers)\n",
    "```\n",
    "\n",
    "Because of the modular way in which the layers are defined we can also stack an arbitrarily long sequence of layers together to produce deeper models. For instance the following would define a model consisting of three pairs of affine and logistic sigmoid transformations.\n",
    "\n",
    "```python\n",
    "model = MultipleLayerModel([\n",
    "    AffineLayer(input_dim, hidden_dim), SigmoidLayer(),\n",
    "    AffineLayer(hidden_dim, hidden_dim), SigmoidLayer(),\n",
    "    AffineLayer(hidden_dim, output_dim), SigmoidLayer(),\n",
    "])\n",
    "```\n",
    "\n",
    "## Back-propagation of gradients\n",
    "  \n",
    "To allow training models consisting of a stack of multiple layers, all layers need to implement a `bprop` method in addition to the `fprop` we encountered in the previous week. \n",
    "\n",
    "The `bprop` method takes gradients of an error function with respect to the *outputs* of a layer and uses these gradients to calculate gradients of the error function with respect to the *inputs* of a layer. As the inputs to a hidden layer in a multiple-layer model consist of the outputs of the previous layer, this means we can calculate the gradients of the error function with respect to the outputs of every layer in the model by iteratively propagating the gradients backwards through the layers of the model (i.e. from the last to first layer), hence the term 'back-propagation' or 'bprop' for short. A block diagram illustrating this is shown for a three layer model below.\n",
    "\n",
    "<img src='res/fprop-bprop-block-diagram.png' />\n",
    "\n",
    "For a layer with parameters, the gradients with respect to the layer outputs are required to calculate gradients with respect to the layer parameters. Therefore by combining backward propagation of gradients through the model with computing the gradients with respect to parameters in the relevant layers we can calculate gradients of the error function with respect to all of the parameters of a multiple-layer model in a very efficient manner (in fact the computational cost of computing gradients with respect to all of the parameters of the model using this method will only be a constant factor times the cost of calculating the model outputs in the forwards pass).\n",
    "\n",
    "So far, we have abstractly talked about calculating gradients with respect to the inputs of a layer using gradients with respect to the layer outputs. More concretely we will be using the chain rule for derivatives to do this, similarly to how we used the chain rule in exercise 4 of the previous notebook to calculate gradients with respect to the parameters of an affine layer given gradients with respect to the outputs of the layer.\n",
    "\n",
    "In particular if our layer has a batch of $B$ vector inputs each of dimension $D$, $\\left\\lbrace \\boldsymbol{x}^{(b)} \\right\\rbrace_{b=1}^B$, and produces a batch of $B$ vector outputs each of dimension $K$, $\\left\\lbrace \\boldsymbol{y}^{(b)}\\right\\rbrace_{b=1}^B$,  then we can calculate the gradient with respect to the $d^\\textrm{th}$ dimension of the $b^{\\textrm{th}}$ input using the gradients with respect to the $b^{\\textrm{th}}$ output\n",
    "\n",
    "\\begin{equation}\n",
    "    \\frac{\\partial \\bar{E}}{\\partial x^{(b)}_d} = \n",
    "    \\sum_{k=1}^K \\left( \n",
    "        \\frac{\\partial \\bar{E}}{\\partial y^{(b)}_k} \\frac{\\partial y^{(b)}_k}{\\partial x^{(b)}_d} \n",
    "    \\right).\n",
    "\\end{equation}\n",
    "\n",
    "The `bprop` method takes an array of gradients with respect to the outputs $\\frac{\\partial y^{(b)}_k}{\\partial x^{(b)}_d}$ and applies a sum-product operation with the partial derivatives of each output with respect to each input $\\frac{\\partial \\bar{E}}{\\partial y^{(b)}_k}$, producing gradients with respect to the inputs of the layer $\\frac{\\partial \\bar{E}}{\\partial x^{(b)}_d}$.\n",
    "\n",
    "For the affine transformation used in the `AffineLayer` implemented in lab 2, i.e. a forward propagation corresponding to \n",
    "\n",
    "\\begin{equation}\n",
    "    y^{(b)}_k = \\sum_{d=1}^D \\left( W_{kd} x^{(b)}_d \\right) + b_k\n",
    "\\end{equation}\n",
    "\n",
    "then the corresponding partial derivatives of layer outputs with respect to inputs are\n",
    "\n",
    "\\begin{equation}\n",
    "    \\frac{\\partial y^{(b)}_k}{\\partial x^{(b)}_d} = W_{kd}\n",
    "\\end{equation}\n",
    "\n",
    "and so the backwards-propagation method for the `AffineLayer` takes the following form\n",
    "\n",
    "\\begin{equation}\n",
    "    \\frac{\\partial \\bar{E}}{\\partial x^{(b)}_d} = \n",
    "    \\sum_{k=1}^K \\left( \\frac{\\partial \\bar{E}}{\\partial y^{(b)}_k} W_{kd} \\right).\n",
    "\\end{equation}\n",
    "\n",
    "This can be efficiently implemented in NumPy using the `dot` function\n",
    "\n",
    "```python\n",
    "class AffineLayer(LayerWithParameters):\n",
    "\n",
    "    # ... [implementation of remaining methods from previous week] ...\n",
    "    \n",
    "    def bprop(self, inputs, outputs, grads_wrt_outputs):\n",
    "        return grads_wrt_outputs.dot(self.weights)\n",
    "```\n",
    "\n",
    "An important special case applies when the outputs of a layer are an elementwise function of the inputs such that $y^{(b)}_k$ only depends on $x^{(b)}_d$ when $d = k$. In this case the partial derivatives $\\frac{\\partial y^{(b)}_k}{\\partial x^{(b)}_d}$ will be zero when $k \\neq d$ and the above summation reduces to a single term,\n",
    "\n",
    "\\begin{equation}\n",
    "    \\frac{\\partial \\bar{E}}{\\partial x^{(b)}_d} = \n",
    "    \\frac{\\partial \\bar{E}}{\\partial y^{(b)}_d} \\frac{\\partial y^{(b)}_d}{\\partial x^{(b)}_d}\n",
    "\\end{equation}\n",
    "\n",
    "i.e. to calculate the gradient with respect to the $b^{\\textrm{th}}$ input vector we just perform an elementwise multiplication of the gradient with respect to the $b^{\\textrm{th}}$ output vector with the vector of derivatives of the outputs with respect to the inputs. This case applies to the `SigmoidLayer` and to all other layers applying an elementwise function to their inputs.\n",
    "\n",
    "For the logistic sigmoid layer we have that\n",
    "\n",
    "\\begin{equation}\n",
    "    y^{(b)}_d = \\frac{1}{1 + \\exp(-x^{(b)}_d)}\n",
    "    \\qquad\n",
    "    \\Rightarrow\n",
    "    \\qquad\n",
    "    \\frac{\\partial y^{(b)}_d}{\\partial x^{(b)}_d} = \n",
    "    \\frac{\\exp(-x^{(b)}_d)}{\\left[ 1 + \\exp(-x^{(b)}_d) \\right]^2} =\n",
    "     y^{(b)}_d \\left[ 1 -  y^{(b)}_d  \\right]\n",
    "\\end{equation}\n",
    "\n",
    "which you should now be able relate to the implementation of `SigmoidLayer.bprop` given earlier:\n",
    "\n",
    "```python\n",
    "class SigmoidLayer(Layer):\n",
    "\n",
    "    def fprop(self, inputs):\n",
    "        return 1. / (1. + np.exp(-inputs))\n",
    "\n",
    "    def bprop(self, inputs, outputs, grads_wrt_outputs):\n",
    "        return grads_wrt_outputs * outputs * (1. - outputs)\n",
    "```"
   ],
   "metadata": {
    "collapsed": false
   }
  },
  {
   "cell_type": "markdown",
   "source": [
    "## Exercise 1: training a softmax model on MNIST\n",
    "\n",
    "For this first exercise we will train a model consisting of an affine transformation plus softmax on a multiclass classification task: classifying the digit labels for handwritten digit images from the MNIST data set introduced in the first notebook.\n",
    "\n",
    "First run the cell below to import the necessary modules and classes and to load the MNIST data provider objects. As it takes a little while to load the MNIST data from disk into memory it is worth loading the data providers just once in a separate cell like this rather than recreating the objects for every training run.\n",
    "\n",
    "We are loading two data provider objects here - one corresponding to the training data set and a second to use as a *validation* data set. This is data we do not train the model on but measure the performance of the trained model on to assess its ability to *generalise* to unseen data. \n",
    "\n",
    "The concept of training, validation, and test data sets was introduced in [lecture one](https://www.learn.ed.ac.uk/bbcswebdav/pid-5970416-dt-content-rid-23286458_1/xid-23286458_1), and the concept of generalisation is discussed in more detail in [lecture five](http://www.inf.ed.ac.uk/teaching/courses/mlp/2018-19/mlp05-reg.pdf). As you will need to report both training and validation set performances in your experiments for the first coursework assignment we are providing code here to give an example of how to do this."
   ],
   "metadata": {
    "collapsed": false
   }
  },
  {
   "cell_type": "code",
   "execution_count": null,
   "outputs": [],
   "source": [
    "import numpy as np\n",
    "import matplotlib.pyplot as plt\n",
    "import logging\n",
    "from mlp.layers import AffineLayer, SoftmaxLayer, SigmoidLayer\n",
    "from mlp.errors import CrossEntropyError, CrossEntropySoftmaxError\n",
    "from mlp.models import SingleLayerModel, MultipleLayerModel\n",
    "from mlp.initialisers import UniformInit\n",
    "from mlp.learning_rules import GradientDescentLearningRule\n",
    "from mlp.data_providers import MNISTDataProvider\n",
    "from mlp.optimisers import Optimiser\n",
    "%matplotlib inline\n",
    "plt.style.use('ggplot')\n",
    "\n",
    "# Seed a random number generator\n",
    "seed = 6102016 \n",
    "rng = np.random.RandomState(seed)\n",
    "\n",
    "# Set up a logger object to print info about the training run to stdout\n",
    "logger = logging.getLogger()\n",
    "logger.setLevel(logging.INFO)\n",
    "logger.handlers = [logging.StreamHandler()]\n",
    "\n",
    "# Create data provider objects for the MNIST data set\n",
    "train_data = MNISTDataProvider('train', rng=rng)\n",
    "valid_data = MNISTDataProvider('valid', rng=rng)\n",
    "input_dim, output_dim = 784, 10"
   ],
   "metadata": {
    "collapsed": false,
    "pycharm": {
     "name": "#%%\n"
    }
   }
  },
  {
   "cell_type": "markdown",
   "source": [
    "To minimise replication of code and allow you to run experiments more quickly a helper function is provided below which trains a model and plots the evolution of the error and classification accuracy of the model (on both training and validation sets) over training."
   ],
   "metadata": {
    "collapsed": false
   }
  },
  {
   "cell_type": "code",
   "execution_count": null,
   "outputs": [],
   "source": [
    "def train_model_and_plot_stats(\n",
    "        model, error, learning_rule, train_data, valid_data, num_epochs, stats_interval):\n",
    "\n",
    "    # As well as monitoring the error over training also monitor classification\n",
    "    # accuracy i.e. proportion of most-probable predicted classes being equal to targets\n",
    "    data_monitors={'acc': lambda y, t: (y.argmax(-1) == t.argmax(-1)).mean()}\n",
    "\n",
    "    # Use the created objects to initialise a new Optimiser instance.\n",
    "    optimiser = Optimiser(\n",
    "        model, error, learning_rule, train_data, valid_data, data_monitors)\n",
    "\n",
    "    # Run the optimiser for 5 epochs (full passes through the training set)\n",
    "    # printing statistics every epoch.\n",
    "    stats, keys, run_time = optimiser.train(num_epochs=num_epochs, stats_interval=stats_interval)\n",
    "\n",
    "    # Plot the change in the validation and training set error over training.\n",
    "    fig_1 = plt.figure(figsize=(8, 4))\n",
    "    ax_1 = fig_1.add_subplot(111)\n",
    "    for k in ['error(train)', 'error(valid)']:\n",
    "        ax_1.plot(np.arange(1, stats.shape[0]) * stats_interval, \n",
    "                  stats[1:, keys[k]], label=k)\n",
    "    ax_1.legend(loc=0)\n",
    "    ax_1.set_xlabel('Epoch number')\n",
    "\n",
    "    # Plot the change in the validation and training set accuracy over training.\n",
    "    fig_2 = plt.figure(figsize=(8, 4))\n",
    "    ax_2 = fig_2.add_subplot(111)\n",
    "    for k in ['acc(train)', 'acc(valid)']:\n",
    "        ax_2.plot(np.arange(1, stats.shape[0]) * stats_interval, \n",
    "                  stats[1:, keys[k]], label=k)\n",
    "    ax_2.legend(loc=0)\n",
    "    ax_2.set_xlabel('Epoch number')\n",
    "    \n",
    "    return stats, keys, run_time, fig_1, ax_1, fig_2, ax_2"
   ],
   "metadata": {
    "collapsed": false,
    "pycharm": {
     "name": "#%%\n"
    }
   }
  },
  {
   "cell_type": "markdown",
   "source": [
    "Running the cell below will create a model consisting of an affine layer follower by a softmax transformation and train it on the MNIST data set by minimising the multi-class cross entropy error function using a basic gradient descent learning rule. By using the helper function defined above, at the end of training curves of the evolution of the error function and also classification accuracy of the model over the training epochs will be plotted.\n",
    "\n",
    "You should try running the code for various settings of the training hyperparameters defined at the beginning of the cell to get a feel for how these affect how training proceeds. You may wish to create multiple copies of the cell below to allow you to keep track of and compare the results across different hyperparameter settings."
   ],
   "metadata": {
    "collapsed": false
   }
  },
  {
   "cell_type": "markdown",
   "source": [
    "### Varying initialisation scale\n",
    "\n",
    "<span style=\"color:red\">First try a few different parameter initialisation scales</span>"
   ],
   "metadata": {
    "collapsed": false
   }
  },
  {
   "cell_type": "markdown",
   "source": [
    "#### `init_scale = 0.01`"
   ],
   "metadata": {
    "collapsed": false
   }
  },
  {
   "cell_type": "code",
   "execution_count": null,
   "outputs": [],
   "source": [
    "# Set training run hyperparameters\n",
    "batch_size = 100  # number of data points in a batch\n",
    "init_scale = 0.01  # scale for random parameter initialisation\n",
    "learning_rate = 0.1  # learning rate for gradient descent\n",
    "num_epochs = 100  # number of training epochs to perform\n",
    "stats_interval = 5  # epoch interval between recording and printing stats\n",
    "\n",
    "# Reset random number generator and data provider states on each run\n",
    "# to ensure reproducibility of results\n",
    "rng.seed(seed)\n",
    "train_data.reset()\n",
    "valid_data.reset()\n",
    "\n",
    "# Alter data-provider batch size\n",
    "train_data.batch_size = batch_size \n",
    "valid_data.batch_size = batch_size\n",
    "\n",
    "# Create a parameter initialiser which will sample random uniform values\n",
    "# from [-init_scale, init_scale]\n",
    "param_init = UniformInit(-init_scale, init_scale, rng=rng)\n",
    "\n",
    "# Create affine + softmax model\n",
    "model = MultipleLayerModel([\n",
    "    AffineLayer(input_dim, output_dim, param_init, param_init),\n",
    "    SoftmaxLayer()\n",
    "])\n",
    "\n",
    "# Initialise a cross entropy error object\n",
    "error = CrossEntropyError()\n",
    "\n",
    "# Use a basic gradient descent learning rule\n",
    "learning_rule = GradientDescentLearningRule(learning_rate=learning_rate)\n",
    "\n",
    "_ = train_model_and_plot_stats(\n",
    "    model, error, learning_rule, train_data, valid_data, num_epochs, stats_interval)"
   ],
   "metadata": {
    "collapsed": false,
    "pycharm": {
     "name": "#%%\n"
    }
   }
  },
  {
   "cell_type": "markdown",
   "source": [
    "#### `init_scale = 0.1`"
   ],
   "metadata": {
    "collapsed": false
   }
  },
  {
   "cell_type": "code",
   "execution_count": null,
   "outputs": [],
   "source": [
    "# Set training run hyperparameters\n",
    "batch_size = 100  # number of data points in a batch\n",
    "init_scale = 0.1  # scale for random parameter initialisation\n",
    "learning_rate = 0.1  # learning rate for gradient descent\n",
    "num_epochs = 100  # number of training epochs to perform\n",
    "stats_interval = 5  # epoch interval between recording and printing stats\n",
    "\n",
    "# Reset random number generator and data provider states on each run\n",
    "# to ensure reproducibility of results\n",
    "rng.seed(seed)\n",
    "train_data.reset()\n",
    "valid_data.reset()\n",
    "\n",
    "# Alter data-provider batch size\n",
    "train_data.batch_size = batch_size \n",
    "valid_data.batch_size = batch_size\n",
    "\n",
    "# Create a parameter initialiser which will sample random uniform values\n",
    "# from [-init_scale, init_scale]\n",
    "param_init = UniformInit(-init_scale, init_scale, rng=rng)\n",
    "\n",
    "# Create affine + softmax model\n",
    "model = MultipleLayerModel([\n",
    "    AffineLayer(input_dim, output_dim, param_init, param_init),\n",
    "    SoftmaxLayer()\n",
    "])\n",
    "\n",
    "# Initialise a cross entropy error object\n",
    "error = CrossEntropyError()\n",
    "\n",
    "# Use a basic gradient descent learning rule\n",
    "learning_rule = GradientDescentLearningRule(learning_rate=learning_rate)\n",
    "\n",
    "_ = train_model_and_plot_stats(\n",
    "    model, error, learning_rule, train_data, valid_data, num_epochs, stats_interval)"
   ],
   "metadata": {
    "collapsed": false,
    "pycharm": {
     "name": "#%%\n"
    }
   }
  },
  {
   "cell_type": "markdown",
   "source": [
    "#### `init_scale = 0.5`"
   ],
   "metadata": {
    "collapsed": false
   }
  },
  {
   "cell_type": "code",
   "execution_count": null,
   "outputs": [],
   "source": [
    "# Set training run hyperparameters\n",
    "batch_size = 100  # number of data points in a batch\n",
    "init_scale = 0.5  # scale for random parameter initialisation\n",
    "learning_rate = 0.1  # learning rate for gradient descent\n",
    "num_epochs = 100  # number of training epochs to perform\n",
    "stats_interval = 5  # epoch interval between recording and printing stats\n",
    "\n",
    "# Reset random number generator and data provider states on each run\n",
    "# to ensure reproducibility of results\n",
    "rng.seed(seed)\n",
    "train_data.reset()\n",
    "valid_data.reset()\n",
    "\n",
    "# Alter data-provider batch size\n",
    "train_data.batch_size = batch_size \n",
    "valid_data.batch_size = batch_size\n",
    "\n",
    "# Create a parameter initialiser which will sample random uniform values\n",
    "# from [-init_scale, init_scale]\n",
    "param_init = UniformInit(-init_scale, init_scale, rng=rng)\n",
    "\n",
    "# Create affine + softmax model\n",
    "model = MultipleLayerModel([\n",
    "    AffineLayer(input_dim, output_dim, param_init, param_init),\n",
    "    SoftmaxLayer()\n",
    "])\n",
    "\n",
    "# Initialise a cross entropy error object\n",
    "error = CrossEntropyError()\n",
    "\n",
    "# Use a basic gradient descent learning rule\n",
    "learning_rule = GradientDescentLearningRule(learning_rate=learning_rate)\n",
    "\n",
    "_ = train_model_and_plot_stats(\n",
    "    model, error, learning_rule, train_data, valid_data, num_epochs, stats_interval)"
   ],
   "metadata": {
    "collapsed": false,
    "pycharm": {
     "name": "#%%\n"
    }
   }
  },
  {
   "cell_type": "markdown",
   "source": [
    "|`init_scale`| Final `error(train)` | Final `error(valid)` |\n",
    "|------------|----------------------|----------------------|\n",
    "| 0.01       | 2.43e-01             | 2.58e-01             |\n",
    "| 0.1        | 2.43e-01             | 2.59e-01             |\n",
    "| 0.5        | 2.45e-01             | 2.62e-01             |\n",
    "\n",
    "<span style=\"color:red\">\n",
    "Larger initialisation scale of 0.5 seems to give slightly slower initial learning than smaller scales of 0.1 and 0.01 however difference is only slight suggesting for this shallow architecure training performance is not particularly sensitive to initialisation scale.\n",
    "</span>"
   ],
   "metadata": {
    "collapsed": false
   }
  },
  {
   "cell_type": "markdown",
   "source": [
    "### Varying learning rate\n",
    "\n",
    "<span style=\"color:red\">Now let's try some different values for learning rate.</span>"
   ],
   "metadata": {
    "collapsed": false
   }
  },
  {
   "cell_type": "markdown",
   "source": [
    "#### `learning_rate = 0.05`"
   ],
   "metadata": {
    "collapsed": false
   }
  },
  {
   "cell_type": "code",
   "execution_count": null,
   "outputs": [],
   "source": [
    "# Set training run hyperparameters\n",
    "batch_size = 100  # number of data points in a batch\n",
    "init_scale = 0.1  # scale for random parameter initialisation\n",
    "learning_rate = 0.05  # learning rate for gradient descent\n",
    "num_epochs = 100  # number of training epochs to perform\n",
    "stats_interval = 5  # epoch interval between recording and printing stats\n",
    "\n",
    "# Reset random number generator and data provider states on each run\n",
    "# to ensure reproducibility of results\n",
    "rng.seed(seed)\n",
    "train_data.reset()\n",
    "valid_data.reset()\n",
    "\n",
    "# Alter data-provider batch size\n",
    "train_data.batch_size = batch_size \n",
    "valid_data.batch_size = batch_size\n",
    "\n",
    "# Create a parameter initialiser which will sample random uniform values\n",
    "# from [-init_scale, init_scale]\n",
    "param_init = UniformInit(-init_scale, init_scale, rng=rng)\n",
    "\n",
    "# Create affine + softmax model\n",
    "model = MultipleLayerModel([\n",
    "    AffineLayer(input_dim, output_dim, param_init, param_init),\n",
    "    SoftmaxLayer()\n",
    "])\n",
    "\n",
    "# Initialise a cross entropy error object\n",
    "error = CrossEntropyError()\n",
    "\n",
    "# Use a basic gradient descent learning rule\n",
    "learning_rule = GradientDescentLearningRule(learning_rate=learning_rate)\n",
    "\n",
    "_ = train_model_and_plot_stats(\n",
    "    model, error, learning_rule, train_data, valid_data, num_epochs, stats_interval)"
   ],
   "metadata": {
    "collapsed": false,
    "pycharm": {
     "name": "#%%\n"
    }
   }
  },
  {
   "cell_type": "markdown",
   "source": [
    "#### `learning_rate = 0.1`"
   ],
   "metadata": {
    "collapsed": false
   }
  },
  {
   "cell_type": "code",
   "execution_count": null,
   "outputs": [],
   "source": [
    "# Set training run hyperparameters\n",
    "batch_size = 100  # number of data points in a batch\n",
    "init_scale = 0.1  # scale for random parameter initialisation\n",
    "learning_rate = 0.1  # learning rate for gradient descent\n",
    "num_epochs = 100  # number of training epochs to perform\n",
    "stats_interval = 5  # epoch interval between recording and printing stats\n",
    "\n",
    "# Reset random number generator and data provider states on each run\n",
    "# to ensure reproducibility of results\n",
    "rng.seed(seed)\n",
    "train_data.reset()\n",
    "valid_data.reset()\n",
    "\n",
    "# Alter data-provider batch size\n",
    "train_data.batch_size = batch_size \n",
    "valid_data.batch_size = batch_size\n",
    "\n",
    "# Create a parameter initialiser which will sample random uniform values\n",
    "# from [-init_scale, init_scale]\n",
    "param_init = UniformInit(-init_scale, init_scale, rng=rng)\n",
    "\n",
    "# Create affine + softmax model\n",
    "model = MultipleLayerModel([\n",
    "    AffineLayer(input_dim, output_dim, param_init, param_init),\n",
    "    SoftmaxLayer()\n",
    "])\n",
    "\n",
    "# Initialise a cross entropy error object\n",
    "error = CrossEntropyError()\n",
    "\n",
    "# Use a basic gradient descent learning rule\n",
    "learning_rule = GradientDescentLearningRule(learning_rate=learning_rate)\n",
    "\n",
    "_ = train_model_and_plot_stats(\n",
    "    model, error, learning_rule, train_data, valid_data, num_epochs, stats_interval)"
   ],
   "metadata": {
    "collapsed": false,
    "pycharm": {
     "name": "#%%\n"
    }
   }
  },
  {
   "cell_type": "markdown",
   "source": [
    "#### `learning_rate = 0.2`"
   ],
   "metadata": {
    "collapsed": false
   }
  },
  {
   "cell_type": "code",
   "execution_count": null,
   "outputs": [],
   "source": [
    "# Set training run hyperparameters\n",
    "batch_size = 100  # number of data points in a batch\n",
    "init_scale = 0.1  # scale for random parameter initialisation\n",
    "learning_rate = 0.2  # learning rate for gradient descent\n",
    "num_epochs = 100  # number of training epochs to perform\n",
    "stats_interval = 5  # epoch interval between recording and printing stats\n",
    "\n",
    "# Reset random number generator and data provider states on each run\n",
    "# to ensure reproducibility of results\n",
    "rng.seed(seed)\n",
    "train_data.reset()\n",
    "valid_data.reset()\n",
    "\n",
    "# Alter data-provider batch size\n",
    "train_data.batch_size = batch_size \n",
    "valid_data.batch_size = batch_size\n",
    "\n",
    "# Create a parameter initialiser which will sample random uniform values\n",
    "# from [-init_scale, init_scale]\n",
    "param_init = UniformInit(-init_scale, init_scale, rng=rng)\n",
    "\n",
    "# Create affine + softmax model\n",
    "model = MultipleLayerModel([\n",
    "    AffineLayer(input_dim, output_dim, param_init, param_init),\n",
    "    SoftmaxLayer()\n",
    "])\n",
    "\n",
    "# Initialise a cross entropy error object\n",
    "error = CrossEntropyError()\n",
    "\n",
    "# Use a basic gradient descent learning rule\n",
    "learning_rule = GradientDescentLearningRule(learning_rate=learning_rate)\n",
    "\n",
    "_ = train_model_and_plot_stats(\n",
    "    model, error, learning_rule, train_data, valid_data, num_epochs, stats_interval)"
   ],
   "metadata": {
    "collapsed": false,
    "pycharm": {
     "name": "#%%\n"
    }
   }
  },
  {
   "cell_type": "markdown",
   "source": [
    "#### `learning_rate = 0.5`"
   ],
   "metadata": {
    "collapsed": false
   }
  },
  {
   "cell_type": "code",
   "execution_count": null,
   "outputs": [],
   "source": [
    "# Set training run hyperparameters\n",
    "batch_size = 100  # number of data points in a batch\n",
    "init_scale = 0.1  # scale for random parameter initialisation\n",
    "learning_rate = 0.5  # learning rate for gradient descent\n",
    "num_epochs = 100  # number of training epochs to perform\n",
    "stats_interval = 5  # epoch interval between recording and printing stats\n",
    "\n",
    "# Reset random number generator and data provider states on each run\n",
    "# to ensure reproducibility of results\n",
    "rng.seed(seed)\n",
    "train_data.reset()\n",
    "valid_data.reset()\n",
    "\n",
    "# Alter data-provider batch size\n",
    "train_data.batch_size = batch_size \n",
    "valid_data.batch_size = batch_size\n",
    "\n",
    "# Create a parameter initialiser which will sample random uniform values\n",
    "# from [-init_scale, init_scale]\n",
    "param_init = UniformInit(-init_scale, init_scale, rng=rng)\n",
    "\n",
    "# Create affine + softmax model\n",
    "model = MultipleLayerModel([\n",
    "    AffineLayer(input_dim, output_dim, param_init, param_init),\n",
    "    SoftmaxLayer()\n",
    "])\n",
    "\n",
    "# Initialise a cross entropy error object\n",
    "error = CrossEntropyError()\n",
    "\n",
    "# Use a basic gradient descent learning rule\n",
    "learning_rule = GradientDescentLearningRule(learning_rate=learning_rate)\n",
    "\n",
    "_ = train_model_and_plot_stats(\n",
    "    model, error, learning_rule, train_data, valid_data, num_epochs, stats_interval)"
   ],
   "metadata": {
    "collapsed": false,
    "pycharm": {
     "name": "#%%\n"
    }
   }
  },
  {
   "cell_type": "markdown",
   "source": [
    "|`learning_rate`| Final `error(train)` | Final `error(valid)` |\n",
    "|---------------|----------------------|----------------------|\n",
    "| 0.05          | $2.53\\times 10^{-1}$  | $2.59\\times 10^{-1}$|\n",
    "| 0.1           | $2.43\\times 10^{-1}$  | $2.59\\times 10^{-1}$|\n",
    "| 0.2           | $2.35\\times 10^{-1}$  | $2.63\\times 10^{-1}$|\n",
    "| 0.5           | $2.31\\times 10^{-1}$  | $2.77\\times 10^{-1}$|\n",
    "\n",
    "<span style=\"color:red\">\n",
    "Increasing the learning rate, as would be expected, increase the speed of learning, with the final training error reached monotonically decreasing over the learning rates tested as the learning rate was increased. Note however the validation set error increases for larger learning rates - this suggests the model is overfitting to the data, with the larger learning rates causing the model to begin overfitting sooner - we could have afforded to halt learning earlier in these cases when there was no further improvement in the validation set error. Notice also the error curves for the largest learning rate value are much more noisy suggesting learning is becoming quite unstable with this large a step size, with a lot of the gradient descent steps overshooting and causing the error function value to increase.\n",
    "</span>"
   ],
   "metadata": {
    "collapsed": false
   }
  },
  {
   "cell_type": "markdown",
   "source": [
    "### Optional extra: more efficient softmax gradient evaluation\n",
    "\n",
    "In the lectures you were shown that for certain combinations of error function and final output layers, that the expressions for the gradients take particularly simple forms. \n",
    "\n",
    "In particular it can be shown that the combinations of \n",
    "\n",
    "  * logistic sigmoid output layer and binary cross entropy error function\n",
    "  * softmax output layer and cross entropy error function\n",
    " \n",
    "lead to particularly simple forms for the gradients of the error function with respect to the inputs to the final layer. In particular for the latter softmax and cross entropy error function case we have that\n",
    "\n",
    "\\begin{equation}\n",
    "    y^{(b)}_k = \\textrm{Softmax}_k\\lpa\\vct{x}^{(b)}\\rpa = \\frac{\\exp(x^{(b)}_k)}{\\sum_{d=1}^D \\lbr \\exp(x^{(b)}_d) \\rbr}\n",
    "    \\qquad\n",
    "    E^{(b)} = \\textrm{CrossEntropy}\\lpa\\vct{y}^{(b)},\\,\\vct{t}^{(b)}\\rpa = -\\sum_{d=1}^D \\lbr t^{(b)}_d \\log(y^{(b)}_d) \\rbr\n",
    "\\end{equation}\n",
    "\n",
    "and it can be shown (this is an instructive mathematical exercise if you want a challenge!) that\n",
    "\n",
    "\\begin{equation}\n",
    "    \\pd{E^{(b)}}{x^{(b)}_d} = y^{(b)}_d - t^{(b)}_d.\n",
    "\\end{equation}\n",
    "\n",
    "The combination of `CrossEntropyError` and `SoftmaxLayer` used to train the model above calculate this gradient less directly by first calculating the gradient of the error with respect to the model outputs in `CrossEntropyError.grad` and then back-propagating this gradient to the inputs of the softmax layer using `SoftmaxLayer.bprop`.\n",
    "\n",
    "Rather than computing the gradient in two steps like this we can instead wrap the softmax transformation in to the definition of the error function and make use of the simpler gradient expression above. More explicitly we define an error function as follows\n",
    "\n",
    "\\begin{equation}\n",
    "    E^{(b)} = \\textrm{CrossEntropySoftmax}\\lpa\\vct{y}^{(b)},\\,\\vct{t}^{(b)}\\rpa = -\\sum_{d=1}^D \\lbr t^{(b)}_d \\log\\lsb\\textrm{Softmax}_d\\lpa \\vct{y}^{(b)}\\rpa\\rsb\\rbr\n",
    "\\end{equation}\n",
    "\n",
    "with corresponding gradient\n",
    "\n",
    "\\begin{equation}\n",
    "    \\pd{E^{(b)}}{y^{(b)}_d} = \\textrm{Softmax}_d\\lpa \\vct{y}^{(b)}\\rpa - t^{(b)}_d.\n",
    "\\end{equation}\n",
    "\n",
    "The final layer of the model will then be an affine transformation which produces unbounded output values corresponding to the logarithms of the unnormalised predicted class probabilities. An implementation of this error function is provided in `CrossEntropySoftmaxError`. The cell below sets up a model with a single affine transformation layer and trains it on MNIST using this new cost. If you run it with equivalent hyperparameters to one of your runs with the alternative formulation above you should get identical error and classification curves (other than floating point error) but with a minor improvement in training speed.\n"
   ],
   "metadata": {
    "collapsed": false
   }
  },
  {
   "cell_type": "code",
   "execution_count": null,
   "outputs": [],
   "source": [
    "# Set training run hyperparameters\n",
    "batch_size = 100  # number of data points in a batch\n",
    "init_scale = 0.1  # scale for random parameter initialisation\n",
    "learning_rate = 0.1  # learning rate for gradient descent\n",
    "num_epochs = 100  # number of training epochs to perform\n",
    "stats_interval = 5  # epoch interval between recording and printing stats\n",
    "\n",
    "# Reset random number generator and data provider states on each run\n",
    "# to ensure reproducibility of results\n",
    "rng.seed(seed)\n",
    "train_data.reset()\n",
    "valid_data.reset()\n",
    "\n",
    "# Alter data-provider batch size\n",
    "train_data.batch_size = batch_size \n",
    "valid_data.batch_size = batch_size\n",
    "\n",
    "# Create a parameter initialiser which will sample random uniform values\n",
    "# from [-init_scale, init_scale]\n",
    "param_init = UniformInit(-init_scale, init_scale, rng=rng)\n",
    "\n",
    "# Create affine model (outputs are logs of unnormalised class probabilities)\n",
    "model = SingleLayerModel(\n",
    "    AffineLayer(input_dim, output_dim, param_init, param_init)\n",
    ")\n",
    "\n",
    "# Initialise the error object\n",
    "error = CrossEntropySoftmaxError()\n",
    "\n",
    "# Use a basic gradient descent learning rule\n",
    "learning_rule = GradientDescentLearningRule(learning_rate=learning_rate)\n",
    "\n",
    "_ = train_model_and_plot_stats(\n",
    "    model, error, learning_rule, train_data, valid_data, num_epochs, stats_interval)"
   ],
   "metadata": {
    "collapsed": false,
    "pycharm": {
     "name": "#%%\n"
    }
   }
  },
  {
   "cell_type": "markdown",
   "source": [
    "<span style=\"color:red\">\n",
    "This gives exactly the same training curves (and error / accuracy values over training) as the two runs with equivalent parameters above (second `init_scale` experiment and second `learning_rate` experiment).\n",
    "</span>\n",
    "\n",
    "<span style=\"color:red\">\n",
    "The times per epoch seems to be slightly lower on average (0.20s compared to 0.22s) suggesting the reformulation gives a small efficiency gain (though this will become less apparent in deeper architectures as the benefit only applies to the final layer).\n",
    "</span>"
   ],
   "metadata": {
    "collapsed": false
   }
  },
  {
   "cell_type": "markdown",
   "source": [
    "## Exercise 2: training deeper models on MNIST\n",
    "\n",
    "We are now going to investigate using deeper multiple-layer model archictures for the MNIST classification task. You should experiment with training models with two to five `AffineLayer` transformations interleaved with `SigmoidLayer` nonlinear transformations. Intermediate hidden layers between the input and output should have a dimension of 100. For example the `layers` definition of a model with two `AffineLayer` transformations would be\n",
    "\n",
    "```python\n",
    "layers = [\n",
    "    AffineLayer(input_dim, 100),\n",
    "    SigmoidLayer(),\n",
    "    AffineLayer(100, output_dim),\n",
    "    SoftmaxLayer()\n",
    "]\n",
    "```\n",
    "\n",
    "If you read through the extension to the first exercise you may wish to use the `CrossEntropySoftmaxError` without the final `SoftmaxLayer`.\n",
    "\n",
    "Use the code from the first exercise as a starting point to train models of varying depths, and compared their results. It is a good idea to start with training hyperparameters which gave reasonable performance for the shallow architecture trained previously.\n",
    "\n",
    "Some questions to investigate:\n",
    "\n",
    "  * How does increasing the number of layers affect the model's performance on the training data set? And on the validation data set?\n",
    "  * Do deeper models seem to be harder or easier to train (e.g. in terms of ease of choosing training hyperparameters to give good final performance and/or quick convergence)?\n",
    "  * Do the models seem to be sensitive to the choice of the parameter initialisation range? Can you think of any reasons for why setting individual parameter initialisation scales for each `AffineLayer` in a model might be useful? Can you come up with (or find) any heuristics for setting the parameter initialisation scales?\n",
    "  \n",
    "You do not need to come up with explanations for all of these (though if you can that's great!), they are meant as prompts to get you thinking about the various issues involved in training multiple-layer models. \n",
    "\n",
    "You may wish to start with shorter pilot training runs (by decreasing the number of training epochs) for each of the model architectures to get an initial idea of appropriate hyperparameter settings before doing one or two longer training runs to assess the final performance of the architectures."
   ],
   "metadata": {
    "collapsed": false
   }
  },
  {
   "cell_type": "code",
   "execution_count": null,
   "outputs": [],
   "source": [
    "# disable logging by setting handler to dummy object\n",
    "logger.handlers = [logging.NullHandler()]"
   ],
   "metadata": {
    "collapsed": false,
    "pycharm": {
     "name": "#%%\n"
    }
   }
  },
  {
   "cell_type": "markdown",
   "source": [
    "### Models with two affine layers"
   ],
   "metadata": {
    "collapsed": false
   }
  },
  {
   "cell_type": "code",
   "execution_count": null,
   "outputs": [],
   "source": [
    "# Set training run hyperparameters\n",
    "batch_size = 100  # number of data points in a batch\n",
    "num_epochs = 100  # number of training epochs to perform\n",
    "stats_interval = 5  # epoch interval between recording and printing stats\n",
    "learning_rate = 0.2  # learning rate for gradient descent\n",
    "\n",
    "init_scales = [0.1, 0.2, 0.5, 1.]  # scale for random parameter initialisation\n",
    "final_errors_train = []\n",
    "final_errors_valid = []\n",
    "final_accs_train = []\n",
    "final_accs_valid = []\n",
    "\n",
    "for init_scale in init_scales:\n",
    "\n",
    "    print('-' * 80)\n",
    "    print('learning_rate={0:.2f} init_scale={1:.2f}'\n",
    "          .format(learning_rate, init_scale))\n",
    "    print('-' * 80)\n",
    "    # Reset random number generator and data provider states on each run\n",
    "    # to ensure reproducibility of results\n",
    "    rng.seed(seed)\n",
    "    train_data.reset()\n",
    "    valid_data.reset()\n",
    "\n",
    "    # Alter data-provider batch size\n",
    "    train_data.batch_size = batch_size \n",
    "    valid_data.batch_size = batch_size\n",
    "\n",
    "    # Create a parameter initialiser which will sample random uniform values\n",
    "    # from [-init_scale, init_scale]\n",
    "    param_init = UniformInit(-init_scale, init_scale, rng=rng)\n",
    "\n",
    "    # Create a model with two affine layers\n",
    "    hidden_dim = 100\n",
    "    model = MultipleLayerModel([\n",
    "        AffineLayer(input_dim, hidden_dim, param_init, param_init),\n",
    "        SigmoidLayer(),\n",
    "        AffineLayer(hidden_dim, output_dim, param_init, param_init)\n",
    "    ])\n",
    "\n",
    "    # Initialise a cross entropy error object\n",
    "    error = CrossEntropySoftmaxError()\n",
    "\n",
    "    # Use a basic gradient descent learning rule\n",
    "    learning_rule = GradientDescentLearningRule(learning_rate=learning_rate)\n",
    "\n",
    "    stats, keys, run_time, fig_1, ax_1, fig_2, ax_2 = train_model_and_plot_stats(\n",
    "        model, error, learning_rule, train_data, valid_data, num_epochs, stats_interval)\n",
    "\n",
    "    plt.show()\n",
    "\n",
    "    print('    final error(train) = {0:.2e}'.format(stats[-1, keys['error(train)']]))\n",
    "    print('    final error(valid) = {0:.2e}'.format(stats[-1, keys['error(valid)']]))\n",
    "    print('    final acc(train)   = {0:.2e}'.format(stats[-1, keys['acc(train)']]))\n",
    "    print('    final acc(valid)   = {0:.2e}'.format(stats[-1, keys['acc(valid)']]))\n",
    "    print('    run time per epoch = {0:.2f}'.format(run_time * 1. / num_epochs))\n",
    "\n",
    "    final_errors_train.append(stats[-1, keys['error(train)']])\n",
    "    final_errors_valid.append(stats[-1, keys['error(valid)']])\n",
    "    final_accs_train.append(stats[-1, keys['acc(train)']])\n",
    "    final_accs_valid.append(stats[-1, keys['acc(valid)']])"
   ],
   "metadata": {
    "collapsed": false,
    "pycharm": {
     "name": "#%%\n"
    }
   }
  },
  {
   "cell_type": "code",
   "execution_count": null,
   "outputs": [],
   "source": [
    "j = 0\n",
    "print('| init_scale | final error(train) | final error(valid) | final acc(train) | final acc(valid) |')\n",
    "print('|------------|--------------------|--------------------|------------------|------------------|')\n",
    "for init_scale in init_scales:\n",
    "    print('| {0:.1f}        | {1:.2e}           | {2:.2e}           |  {3:.2f}            | {4:.2f}             |'\n",
    "          .format(init_scale, \n",
    "                  final_errors_train[j], final_errors_valid[j],\n",
    "                  final_accs_train[j], final_accs_valid[j]))\n",
    "    j += 1"
   ],
   "metadata": {
    "collapsed": false,
    "pycharm": {
     "name": "#%%\n"
    }
   }
  },
  {
   "cell_type": "markdown",
   "source": [
    "### Models with three affine layers"
   ],
   "metadata": {
    "collapsed": false
   }
  },
  {
   "cell_type": "code",
   "execution_count": null,
   "outputs": [],
   "source": [
    "# Set training run hyperparameters\n",
    "batch_size = 100  # number of data points in a batch\n",
    "num_epochs = 100  # number of training epochs to perform\n",
    "stats_interval = 5  # epoch interval between recording and printing stats\n",
    "learning_rate = 0.2  # learning rate for gradient descent\n",
    "\n",
    "init_scales = [0.1, 0.2, 0.5, 1.]  # scale for random parameter initialisation\n",
    "final_errors_train = []\n",
    "final_errors_valid = []\n",
    "final_accs_train = []\n",
    "final_accs_valid = []\n",
    "\n",
    "for init_scale in init_scales:\n",
    "\n",
    "    print('-' * 80)\n",
    "    print('learning_rate={0:.2f} init_scale={1:.2f}'\n",
    "          .format(learning_rate, init_scale))\n",
    "    print('-' * 80)\n",
    "    # Reset random number generator and data provider states on each run\n",
    "    # to ensure reproducibility of results\n",
    "    rng.seed(seed)\n",
    "    train_data.reset()\n",
    "    valid_data.reset()\n",
    "\n",
    "    # Alter data-provider batch size\n",
    "    train_data.batch_size = batch_size \n",
    "    valid_data.batch_size = batch_size\n",
    "\n",
    "    # Create a parameter initialiser which will sample random uniform values\n",
    "    # from [-init_scale, init_scale]\n",
    "    param_init = UniformInit(-init_scale, init_scale, rng=rng)\n",
    "\n",
    "    # Create a model with three affine layers\n",
    "    hidden_dim = 100\n",
    "    model = MultipleLayerModel([\n",
    "        AffineLayer(input_dim, hidden_dim, param_init, param_init),\n",
    "        SigmoidLayer(),\n",
    "        AffineLayer(hidden_dim, hidden_dim, param_init, param_init),\n",
    "        SigmoidLayer(),\n",
    "        AffineLayer(hidden_dim, output_dim, param_init, param_init)\n",
    "    ])\n",
    "\n",
    "    # Initialise a cross entropy error object\n",
    "    error = CrossEntropySoftmaxError()\n",
    "\n",
    "    # Use a basic gradient descent learning rule\n",
    "    learning_rule = GradientDescentLearningRule(learning_rate=learning_rate)\n",
    "\n",
    "    stats, keys, run_time, fig_1, ax_1, fig_2, ax_2 = train_model_and_plot_stats(\n",
    "        model, error, learning_rule, train_data, valid_data, num_epochs, stats_interval)\n",
    "\n",
    "    plt.show()\n",
    "\n",
    "    print('    final error(train) = {0:.2e}'.format(stats[-1, keys['error(train)']]))\n",
    "    print('    final error(valid) = {0:.2e}'.format(stats[-1, keys['error(valid)']]))\n",
    "    print('    final acc(train)   = {0:.2e}'.format(stats[-1, keys['acc(train)']]))\n",
    "    print('    final acc(valid)   = {0:.2e}'.format(stats[-1, keys['acc(valid)']]))\n",
    "    print('    run time per epoch = {0:.2f}'.format(run_time * 1. / num_epochs))\n",
    "    \n",
    "    final_errors_train.append(stats[-1, keys['error(train)']])\n",
    "    final_errors_valid.append(stats[-1, keys['error(valid)']])\n",
    "    final_accs_train.append(stats[-1, keys['acc(train)']])\n",
    "    final_accs_valid.append(stats[-1, keys['acc(valid)']])"
   ],
   "metadata": {
    "collapsed": false,
    "pycharm": {
     "name": "#%%\n"
    }
   }
  },
  {
   "cell_type": "code",
   "execution_count": null,
   "outputs": [],
   "source": [
    "j = 0\n",
    "print('| init_scale | final error(train) | final error(valid) | final acc(train) | final acc(valid) |')\n",
    "print('|------------|--------------------|--------------------|------------------|------------------|')\n",
    "for init_scale in init_scales:\n",
    "    print('| {0:.1f}        | {1:.2e}           | {2:.2e}           |  {3:.2f}            | {4:.2f}             |'\n",
    "          .format(init_scale, \n",
    "                  final_errors_train[j], final_errors_valid[j],\n",
    "                  final_accs_train[j], final_accs_valid[j]))\n",
    "    j += 1"
   ],
   "metadata": {
    "collapsed": false,
    "pycharm": {
     "name": "#%%\n"
    }
   }
  },
  {
   "cell_type": "markdown",
   "source": [
    "### Models with four affine layers"
   ],
   "metadata": {
    "collapsed": false
   }
  },
  {
   "cell_type": "code",
   "execution_count": null,
   "outputs": [],
   "source": [
    "# Set training run hyperparameters\n",
    "batch_size = 100  # number of data points in a batch\n",
    "num_epochs = 100  # number of training epochs to perform\n",
    "stats_interval = 5  # epoch interval between recording and printing stats\n",
    "learning_rate = 0.2  # learning rate for gradient descent\n",
    "\n",
    "init_scales = [0.1, 0.2, 0.5, 1.]  # scale for random parameter initialisation\n",
    "final_errors_train = []\n",
    "final_errors_valid = []\n",
    "final_accs_train = []\n",
    "final_accs_valid = []\n",
    "\n",
    "for init_scale in init_scales:\n",
    "\n",
    "    print('-' * 80)\n",
    "    print('learning_rate={0:.2f} init_scale={1:.2f}'\n",
    "          .format(learning_rate, init_scale))\n",
    "    print('-' * 80)\n",
    "    # Reset random number generator and data provider states on each run\n",
    "    # to ensure reproducibility of results\n",
    "    rng.seed(seed)\n",
    "    train_data.reset()\n",
    "    valid_data.reset()\n",
    "\n",
    "    # Alter data-provider batch size\n",
    "    train_data.batch_size = batch_size \n",
    "    valid_data.batch_size = batch_size\n",
    "\n",
    "    # Create a parameter initialiser which will sample random uniform values\n",
    "    # from [-init_scale, init_scale]\n",
    "    param_init = UniformInit(-init_scale, init_scale, rng=rng)\n",
    "\n",
    "    # Create a model with four affine layers\n",
    "    hidden_dim = 100\n",
    "    model = MultipleLayerModel([\n",
    "        AffineLayer(input_dim, hidden_dim, param_init, param_init),\n",
    "        SigmoidLayer(),\n",
    "        AffineLayer(hidden_dim, hidden_dim, param_init, param_init),\n",
    "        SigmoidLayer(),\n",
    "        AffineLayer(hidden_dim, hidden_dim, param_init, param_init),\n",
    "        SigmoidLayer(),\n",
    "        AffineLayer(hidden_dim, output_dim, param_init, param_init)\n",
    "    ])\n",
    "\n",
    "    # Initialise a cross entropy error object\n",
    "    error = CrossEntropySoftmaxError()\n",
    "\n",
    "    # Use a basic gradient descent learning rule\n",
    "    learning_rule = GradientDescentLearningRule(learning_rate=learning_rate)\n",
    "\n",
    "    stats, keys, run_time, fig_1, ax_1, fig_2, ax_2 = train_model_and_plot_stats(\n",
    "        model, error, learning_rule, train_data, valid_data, num_epochs, stats_interval)\n",
    "\n",
    "    plt.show()\n",
    "\n",
    "    print('    final error(train) = {0:.2e}'.format(stats[-1, keys['error(train)']]))\n",
    "    print('    final error(valid) = {0:.2e}'.format(stats[-1, keys['error(valid)']]))\n",
    "    print('    final acc(train)   = {0:.2e}'.format(stats[-1, keys['acc(train)']]))\n",
    "    print('    final acc(valid)   = {0:.2e}'.format(stats[-1, keys['acc(valid)']]))\n",
    "    print('    run time per epoch = {0:.2f}'.format(run_time * 1. / num_epochs))\n",
    "\n",
    "    final_errors_train.append(stats[-1, keys['error(train)']])\n",
    "    final_errors_valid.append(stats[-1, keys['error(valid)']])\n",
    "    final_accs_train.append(stats[-1, keys['acc(train)']])\n",
    "    final_accs_valid.append(stats[-1, keys['acc(valid)']])"
   ],
   "metadata": {
    "collapsed": false,
    "pycharm": {
     "name": "#%%\n"
    }
   }
  },
  {
   "cell_type": "code",
   "execution_count": null,
   "outputs": [],
   "source": [
    "j = 0\n",
    "print('| init_scale | final error(train) | final error(valid) | final acc(train) | final acc(valid) |')\n",
    "print('|------------|--------------------|--------------------|------------------|------------------|')\n",
    "for init_scale in init_scales:\n",
    "    print('| {0:.1f}        | {1:.2e}           | {2:.2e}           |  {3:.2f}            | {4:.2f}             |'\n",
    "          .format(init_scale, \n",
    "                  final_errors_train[j], final_errors_valid[j],\n",
    "                  final_accs_train[j], final_accs_valid[j]))\n",
    "    j += 1"
   ],
   "metadata": {
    "collapsed": false,
    "pycharm": {
     "name": "#%%\n"
    }
   }
  },
  {
   "cell_type": "markdown",
   "source": [
    "### Models with five affine layers"
   ],
   "metadata": {
    "collapsed": false
   }
  },
  {
   "cell_type": "code",
   "execution_count": null,
   "outputs": [],
   "source": [
    "# Set training run hyperparameters\n",
    "batch_size = 100  # number of data points in a batch\n",
    "num_epochs = 100  # number of training epochs to perform\n",
    "stats_interval = 5  # epoch interval between recording and printing stats\n",
    "learning_rate = 0.2  # learning rate for gradient descent\n",
    "\n",
    "init_scales = [0.1, 0.2, 0.5, 1.]  # scale for random parameter initialisation\n",
    "final_errors_train = []\n",
    "final_errors_valid = []\n",
    "final_accs_train = []\n",
    "final_accs_valid = []\n",
    "\n",
    "for init_scale in init_scales:\n",
    "\n",
    "    print('-' * 80)\n",
    "    print('learning_rate={0:.2f} init_scale={1:.2f}'\n",
    "          .format(learning_rate, init_scale))\n",
    "    print('-' * 80)\n",
    "    # Reset random number generator and data provider states on each run\n",
    "    # to ensure reproducibility of results\n",
    "    rng.seed(seed)\n",
    "    train_data.reset()\n",
    "    valid_data.reset()\n",
    "\n",
    "    # Alter data-provider batch size\n",
    "    train_data.batch_size = batch_size \n",
    "    valid_data.batch_size = batch_size\n",
    "\n",
    "    # Create a parameter initialiser which will sample random uniform values\n",
    "    # from [-init_scale, init_scale]\n",
    "    param_init = UniformInit(-init_scale, init_scale, rng=rng)\n",
    "\n",
    "    # Create a model with five affine layers\n",
    "    hidden_dim = 100\n",
    "    model = MultipleLayerModel([\n",
    "        AffineLayer(input_dim, hidden_dim, param_init, param_init),\n",
    "        SigmoidLayer(),\n",
    "        AffineLayer(hidden_dim, hidden_dim, param_init, param_init),\n",
    "        SigmoidLayer(),\n",
    "        AffineLayer(hidden_dim, hidden_dim, param_init, param_init),\n",
    "        SigmoidLayer(),\n",
    "        AffineLayer(hidden_dim, hidden_dim, param_init, param_init),\n",
    "        SigmoidLayer(),\n",
    "        AffineLayer(hidden_dim, output_dim, param_init, param_init)\n",
    "    ])\n",
    "\n",
    "    # Initialise a cross entropy error object\n",
    "    error = CrossEntropySoftmaxError()\n",
    "\n",
    "    # Use a basic gradient descent learning rule\n",
    "    learning_rule = GradientDescentLearningRule(learning_rate=learning_rate)\n",
    "\n",
    "    stats, keys, run_time, fig_1, ax_1, fig_2, ax_2 = train_model_and_plot_stats(\n",
    "        model, error, learning_rule, train_data, valid_data, num_epochs, stats_interval)\n",
    "\n",
    "    plt.show()\n",
    "\n",
    "    print('    final error(train) = {0:.2e}'.format(stats[-1, keys['error(train)']]))\n",
    "    print('    final error(valid) = {0:.2e}'.format(stats[-1, keys['error(valid)']]))\n",
    "    print('    final acc(train)   = {0:.2e}'.format(stats[-1, keys['acc(train)']]))\n",
    "    print('    final acc(valid)   = {0:.2e}'.format(stats[-1, keys['acc(valid)']]))\n",
    "    print('    run time per epoch = {0:.2f}'.format(run_time * 1. / num_epochs))\n",
    "\n",
    "    final_errors_train.append(stats[-1, keys['error(train)']])\n",
    "    final_errors_valid.append(stats[-1, keys['error(valid)']])\n",
    "    final_accs_train.append(stats[-1, keys['acc(train)']])\n",
    "    final_accs_valid.append(stats[-1, keys['acc(valid)']])"
   ],
   "metadata": {
    "collapsed": false,
    "pycharm": {
     "name": "#%%\n"
    }
   }
  },
  {
   "cell_type": "code",
   "execution_count": null,
   "outputs": [],
   "source": [
    "j = 0\n",
    "print('| init_scale | final error(train) | final error(valid) | final acc(train) | final acc(valid) |')\n",
    "print('|------------|--------------------|--------------------|------------------|------------------|')\n",
    "for init_scale in init_scales:\n",
    "    print('| {0:.1f}        | {1:.2e}           | {2:.2e}           |  {3:.2f}            | {4:.2f}             |'\n",
    "          .format(init_scale, \n",
    "                  final_errors_train[j], final_errors_valid[j],\n",
    "                  final_accs_train[j], final_accs_valid[j]))\n",
    "    j += 1"
   ],
   "metadata": {
    "collapsed": false,
    "pycharm": {
     "name": "#%%\n"
    }
   }
  },
  {
   "cell_type": "markdown",
   "source": [
    "> How does increasing the number of layers affect the model's performance on the training data set? And on the validation data set?\n",
    "\n",
    "<span style='color: red;'>\n",
    "The best final training set error across the four initialisation scales used above for each model architecture, consistently decreases as we increase the number of layers.\n",
    "</span>\n",
    "\n",
    "| Number of affine layers | Best final training set error |\n",
    "|-------------------------|-------------------------------|\n",
    "| 2                       | $1.85 \\times 10^{-2}$         |\n",
    "| 3                       | $5.21 \\times 10^{-3}$         |\n",
    "| 4                       | $1.99 \\times 10^{-3}$         |\n",
    "| 5                       | $1.14 \\times 10^{-3}$         |\n",
    "\n",
    "<span style='color: red;'>\n",
    "This makes sense as adding more layers increases the total number of free parameters in the model and so we would expect the model to be able to fit too the training data better.\n",
    "</span>\n",
    "\n",
    "<span style='color: red;'>\n",
    "If we look at the validation set however we see the opposite trend; as the number of layers increases the best final validation set error increases.\n",
    "</span>\n",
    "\n",
    "| Number of affine layers | Best final validation set error |\n",
    "|-------------------------|---------------------------------|\n",
    "| 2                       | $7.47 \\times 10^{-2}$           |\n",
    "| 3                       | $8.77 \\times 10^{-2}$           |\n",
    "| 4                       | $1.17 \\times 10^{-1}$           |\n",
    "| 5                       | $1.47 \\times 10^{-1}$           |\n",
    "\n",
    "\n",
    "If we look more closely at the training curves for the models with more layers we can see what is happening here. For the models with three or more layers, after a certain number of epochs the validation set error begins to **grow** even as the training set error continues to decrease. This indicates that these models have begun **overfitting** to the training data. We could get a better validation set error in these cases by stopping the training early. **Early stopping** like this is one way of trying to overcome overfitting, in later labs we will consider other methods for improving generalisation by reducing overfitting.\n",
    "\n",
    "\n",
    "> Do deeper models seem to be harder or easier to train (e.g. in terms of ease of choosing training hyperparameters to give good final performance and/or quick convergence)?\n",
    "\n",
    "> Do the models seem to be sensitive to the choice of the parameter initialisation range? Can you think of any reasons for why setting individual parameter initialisation scales for each AffineLayer in a model might be useful? Can you come up with (or find) any heuristics for setting the parameter initialisation scales?\n",
    "\n",
    "The final performance of the deeper models becomes increasingly sensitive to the choice of parameter initialisation. For the models with two affine layers, the final training errors for initialisation scales 0.1, 0.2 and 0.5 are all within approximately 10% of each other, while for the models with five affine layers there is an approximately 400% increase in final training error if moving from an initialisation scale of 0.2 to 0.1 and a 50% increase in final training error when moving from 0.2 to 0.5. The smaller parameter initialisation scales for the deeper models in particular seem to give poorer initial performance (error curves start from higher values) and for the five affine layer model the smallest parameter initialisation scale run shows a pronounced flatter section at the start of training with around 15 epochs before the error starts significantly decreasing.\n",
    "\n",
    "\n",
    "In general the models with more layers also take longer to train, which can be accounted for by their increased complexity, so on top of issues of potential overfitting and difficulty of choosing parameter initilisations we also need to factor in the potentially slower training of deeper models if computational time is a key constraint.\n",
    "\n",
    "\n",
    "We might expect the appropriate initialisation scale for a given affine layer to depend on its input and output dimensionalities. Each output is calculated as the weighted sum of all the inputs, and so for a larger number of inputs the typical magnitude of the output is expected to grow as the sum will contain more terms. Similarly the backpropagated gradient at each input is calculated as a weighted sum over the gradients at each output, and so for a larger number outputs the typical magnitude of backpropagated gradients will become larger.\n",
    "\n",
    "\n",
    "If we wish to keep the typical magnitude of the activations and backpropagated gradients at a given layer roughly constant through the network, we may wish to initialise a layer parameters according to its size. One heuristic based on trying to achieve a roughly constant variance in activations and backpropagated gradients through the network is to initialise the weights for a layer from a distribution with variance inversely proportional to the sum of the input and output dimensions of the layer. This is sometimes known as the Glorot or Xavier initialisation, after the name of the author of [the paper](http://jmlr.org/proceedings/papers/v9/glorot10a/glorot10a.pdf) in which this scheme was proposed. This is discussed in [lecture 4](http://www.inf.ed.ac.uk/teaching/courses/mlp/2017-18/mlp04-learn.pdf).\n"
   ],
   "metadata": {
    "collapsed": false
   }
  },
  {
   "cell_type": "markdown",
   "source": [
    "## Exercise 3: Hyperbolic tangent and rectified linear layers\n",
    "\n",
    "In the models we have been investigating so far, we have been applying elementwise logistic sigmoid transformations to the outputs of intermediate (affine) layers. The logistic sigmoid is just one particular choice of an elementwise non-linearity we can use. \n",
    "\n",
    "As discussed in [lecture 3](https://www.learn.ed.ac.uk/bbcswebdav/pid-5970416-dt-content-rid-16249607_1/xid-16249607_1), although logistic sigmoid has some favourable properties in terms of interpretability, there are also disadvantages from a computational perspective. In particular:\n",
    "1. the gradients of the sigmoid become close to zero (and may actually become zero because of finite numerical precision) for large positive or negative inputs, \n",
    "2. the outputs are non-centred - they cover the interval $[0,\\,1]$ so negative outputs are never produced.\n",
    "\n",
    "Two alternative elementwise non-linearities which are often used in multiple layer models are the hyperbolic tangent (tanh)  and the rectified linear function (ReLU).\n",
    "\n",
    "For tanh (`TanhLayer`) layer the forward propagation corresponds to\n",
    "\n",
    "\\begin{equation}\n",
    "    y^{(b)}_k = \n",
    "    \\tanh\\left(x^{(b)}_k\\right) = \n",
    "    \\frac{\\exp\\left(x^{(b)}_k\\right) - \\exp\\left(-x^{(b)}_k\\right)}{\\exp\\left(x^{(b)}_k\\right) + \\exp\\left(-x^{(b)}_k\\right)}\n",
    "\\end{equation}\n",
    "\n",
    "which has corresponding partial derivatives\n",
    "\n",
    "\\begin{equation}\n",
    "    \\frac{\\partial y^{(b)}_k}{\\partial x^{(b)}_d} = \n",
    "    \\begin{cases} \n",
    "      1 - \\left(y^{(b)}_k\\right)^2 & \\quad k = d \\\\\n",
    "      0 & \\quad k \\neq d\n",
    "    \\end{cases}.\n",
    "\\end{equation}\n",
    "\n",
    "For a ReLU (`ReluLayer`) the forward propagation corresponds to\n",
    "\n",
    "\\begin{equation}\n",
    "    y^{(b)}_k = \n",
    "    \\max\\left(0,\\,x^{(b)}_k\\right)\n",
    "\\end{equation}\n",
    "\n",
    "which has corresponding partial derivatives\n",
    "\n",
    "\\begin{equation}\n",
    "    \\frac{\\partial y^{(b)}_k}{\\partial x^{(b)}_d} = \n",
    "    \\begin{cases} \n",
    "      1 & \\quad k = d \\quad\\textrm{and} &x^{(b)}_d > 0 \\\\\n",
    "      0 & \\quad k \\neq d \\quad\\textrm{or} &x^{(b)}_d < 0\n",
    "    \\end{cases}.\n",
    "\\end{equation}\n",
    "\n",
    "Using these definitions implement the `fprop` and `bprop` methods for the skeleton `TanhLayer` and `ReluLayer` class definitions below."
   ],
   "metadata": {
    "collapsed": false
   }
  },
  {
   "cell_type": "code",
   "execution_count": null,
   "outputs": [],
   "source": [
    "import numpy as np\n",
    "from mlp.layers import Layer\n",
    "\n",
    "class TanhLayer(Layer):\n",
    "    \"\"\"Layer implementing an element-wise hyperbolic tangent transformation.\"\"\"\n",
    "\n",
    "    def fprop(self, inputs):\n",
    "        \"\"\"Forward propagates activations through the layer transformation.\n",
    "\n",
    "        For inputs `x` and outputs `y` this corresponds to `y = tanh(x)`.\n",
    "        \"\"\"\n",
    "        return np.tanh(inputs)\n",
    "\n",
    "    def bprop(self, inputs, outputs, grads_wrt_outputs):\n",
    "        \"\"\"Back propagates gradients through a layer.\n",
    "\n",
    "        Given gradients with respect to the outputs of the layer calculates the\n",
    "        gradients with respect to the layer inputs.\n",
    "        \"\"\"\n",
    "        return (1. - outputs**2) * grads_wrt_outputs\n",
    "\n",
    "    def __repr__(self):\n",
    "        return 'TanhLayer'\n",
    "    \n",
    "\n",
    "class ReluLayer(Layer):\n",
    "    \"\"\"Layer implementing an element-wise rectified linear transformation.\"\"\"\n",
    "\n",
    "    def fprop(self, inputs):\n",
    "        \"\"\"Forward propagates activations through the layer transformation.\n",
    "\n",
    "        For inputs `x` and outputs `y` this corresponds to `y = max(0, x)`.\n",
    "        \"\"\"\n",
    "        return np.maximum(inputs, 0.)\n",
    "\n",
    "    def bprop(self, inputs, outputs, grads_wrt_outputs):\n",
    "        \"\"\"Back propagates gradients through a layer.\n",
    "\n",
    "        Given gradients with respect to the outputs of the layer calculates the\n",
    "        gradients with respect to the layer inputs.\n",
    "        \"\"\"\n",
    "        return (outputs > 0) * grads_wrt_outputs\n",
    "\n",
    "    def __repr__(self):\n",
    "        return 'ReluLayer'"
   ],
   "metadata": {
    "collapsed": false,
    "pycharm": {
     "name": "#%%\n"
    }
   }
  },
  {
   "cell_type": "markdown",
   "source": [
    "Test your implementations by running the cells below."
   ],
   "metadata": {
    "collapsed": false
   }
  },
  {
   "cell_type": "code",
   "execution_count": null,
   "outputs": [],
   "source": [
    "test_inputs = np.array([[0.1, -0.2, 0.3], [-0.4, 0.5, -0.6]])\n",
    "test_grads_wrt_outputs = np.array([[5., 10., -10.], [-5., 0., 10.]])\n",
    "test_tanh_outputs = np.array(\n",
    "    [[ 0.09966799, -0.19737532,  0.29131261],\n",
    "     [-0.37994896,  0.46211716, -0.53704957]])\n",
    "test_tanh_grads_wrt_inputs = np.array(\n",
    "    [[ 4.95033145,  9.61042983, -9.15136962],\n",
    "     [-4.27819393,  0.,          7.11577763]])\n",
    "tanh_layer = TanhLayer()\n",
    "tanh_outputs = tanh_layer.fprop(test_inputs)\n",
    "all_correct = True\n",
    "if not tanh_outputs.shape == test_tanh_outputs.shape:\n",
    "    print('TanhLayer.fprop returned array with wrong shape.')\n",
    "    all_correct = False\n",
    "elif not np.allclose(test_tanh_outputs, tanh_outputs):\n",
    "    print('TanhLayer.fprop calculated incorrect outputs.')\n",
    "    all_correct = False\n",
    "tanh_grads_wrt_inputs = tanh_layer.bprop(\n",
    "    test_inputs, tanh_outputs, test_grads_wrt_outputs)\n",
    "if not tanh_grads_wrt_inputs.shape == test_tanh_grads_wrt_inputs.shape:\n",
    "    print('TanhLayer.bprop returned array with wrong shape.')\n",
    "    all_correct = False\n",
    "elif not np.allclose(tanh_grads_wrt_inputs, test_tanh_grads_wrt_inputs):\n",
    "    print('TanhLayer.bprop calculated incorrect gradients with respect to inputs.')\n",
    "    all_correct = False\n",
    "if all_correct:\n",
    "    print('Outputs and gradients calculated correctly for TanhLayer.')"
   ],
   "metadata": {
    "collapsed": false,
    "pycharm": {
     "name": "#%%\n"
    }
   }
  },
  {
   "cell_type": "code",
   "execution_count": null,
   "outputs": [],
   "source": [
    "test_inputs = np.array([[0.1, -0.2, 0.3], [-0.4, 0.5, -0.6]])\n",
    "test_grads_wrt_outputs = np.array([[5., 10., -10.], [-5., 0., 10.]])\n",
    "test_relu_outputs = np.array([[0.1, 0., 0.3], [0., 0.5, 0.]])\n",
    "test_relu_grads_wrt_inputs = np.array([[5., 0., -10.], [-0., 0., 0.]])\n",
    "relu_layer = ReluLayer()\n",
    "relu_outputs = relu_layer.fprop(test_inputs)\n",
    "all_correct = True\n",
    "if not relu_outputs.shape == test_relu_outputs.shape:\n",
    "    print('ReluLayer.fprop returned array with wrong shape.')\n",
    "    all_correct = False\n",
    "elif not np.allclose(test_relu_outputs, relu_outputs):\n",
    "    print('ReluLayer.fprop calculated incorrect outputs.')\n",
    "    all_correct = False\n",
    "relu_grads_wrt_inputs = relu_layer.bprop(\n",
    "    test_inputs, relu_outputs, test_grads_wrt_outputs)\n",
    "if not relu_grads_wrt_inputs.shape == test_relu_grads_wrt_inputs.shape:\n",
    "    print('ReluLayer.bprop returned array with wrong shape.')\n",
    "    all_correct = False\n",
    "elif not np.allclose(relu_grads_wrt_inputs, test_relu_grads_wrt_inputs):\n",
    "    print('ReluLayer.bprop calculated incorrect gradients with respect to inputs.')\n",
    "    all_correct = False\n",
    "if all_correct:\n",
    "    print('Outputs and gradients calculated correctly for ReluLayer.')"
   ],
   "metadata": {
    "collapsed": false,
    "pycharm": {
     "name": "#%%\n"
    }
   }
  }
 ],
 "metadata": {
  "anaconda-cloud": {},
  "kernelspec": {
   "display_name": "Python 3",
   "language": "python",
   "name": "python3"
  },
  "language_info": {
   "codemirror_mode": {
    "name": "ipython",
    "version": 3
   },
   "file_extension": ".py",
   "mimetype": "text/x-python",
   "name": "python",
   "nbconvert_exporter": "python",
   "pygments_lexer": "ipython3",
   "version": "3.9.7"
  }
 },
 "nbformat": 4,
 "nbformat_minor": 1
}